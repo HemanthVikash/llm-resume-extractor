{
 "cells": [
  {
   "cell_type": "code",
   "execution_count": 36,
   "metadata": {},
   "outputs": [],
   "source": [
    "from common_imports import *\n",
    "from ocr_extractor import extract_text_from_pdf\n",
    "\n",
    "from getpass import getpass\n",
    "\n",
    "# LLM Models\n",
    "from openai import OpenAI\n",
    "import openai\n",
    "from pydantic import BaseModel, Field, AfterValidator, WithJsonSchema\n",
    "import instructor\n",
    "\n",
    "from typing import Optional, Iterable, List, Annotated\n",
    "from datetime import date\n",
    "\n"
   ]
  },
  {
   "cell_type": "code",
   "execution_count": 6,
   "metadata": {},
   "outputs": [
    {
     "name": "stdout",
     "output_type": "stream",
     "text": [
      "Please enter password in the VS Code prompt at the top of your VS Code window!\n",
      "OpenAI API key configured\n"
     ]
    }
   ],
   "source": [
    "# Setup OpenAI\n",
    "if os.getenv(\"OPEN_AI_KEY\") is None:\n",
    "    if any(['VSCODE' in x for x in os.environ.keys()]):\n",
    "        print(\"Please enter password in the VS Code prompt at the top of your VS Code window!\")\n",
    "    \n",
    "    os.environ['OPENAI_API_KEY'] = getpass(\"Paste your OpenAI key from: https://platform.openai.com/account/api-keys\\n\")\n",
    "    openai.api_key = os.getenv(\"OPENAI_API_KEY\", \"\")\n",
    "\n",
    "assert os.getenv(\"OPENAI_API_KEY\", \"\").startswith(\"sk-\"), \"Doesn't look like an API key\"\n",
    "print(\"OpenAI API key configured\")\n",
    "\n",
    "    "
   ]
  },
  {
   "cell_type": "markdown",
   "metadata": {},
   "source": [
    "# Create the structure of a resume\n",
    "\n",
    "Create the structure to help LLMs scrape necessary data from the resume"
   ]
  },
  {
   "cell_type": "code",
   "execution_count": 63,
   "metadata": {},
   "outputs": [],
   "source": [
    "def day_validator(day: int):\n",
    "    if day == None:\n",
    "        day = 15\n",
    "    if day > 31 or day < 0:\n",
    "        raise ValueError(\"Day not in range\")\n",
    "    return day\n",
    "    \n",
    "\n",
    "def month_validator(month: int):\n",
    "    if month == None:\n",
    "        month = 6\n",
    "        \n",
    "    if month > 12 or month < 0:\n",
    "        raise ValueError(\"Month not in range\")\n",
    "\n",
    "    return month\n",
    "\n",
    "\n",
    "\n",
    "class ForgivingDate(BaseModel):\n",
    "    day: int = Annotated[\n",
    "        int, \n",
    "        AfterValidator(day_validator),\n",
    "        WithJsonSchema({\n",
    "            'type': 'int',\n",
    "            'description': 'the day (optional)'\n",
    "        })\n",
    "    ]\n",
    "    month: int = Annotated[\n",
    "        int, \n",
    "        AfterValidator(month_validator),\n",
    "        WithJsonSchema({\n",
    "            'type': 'int',\n",
    "            'description': 'the month (optional)'\n",
    "        })\n",
    "    ]\n",
    "    year: int\n",
    "\n",
    "\n",
    "# def date_validator(date: ForgivingDate | str): \n",
    "#     if type(date) == str:\n",
    "#         raise ValueError(f\"Date is not of the correct format. Change it based on today's date {date.today()}\")\n",
    "\n",
    "\n",
    "class DateRange(BaseModel):\n",
    "    start: ForgivingDate\n",
    "    end: ForgivingDate | str #= Annotated[\n",
    "    #     ForgivingDate | str,\n",
    "    #     AfterValidator(date_validator),\n",
    "    #     WithJsonSchema({\n",
    "    #         'type': 'ForgivingDate',\n",
    "    #         'description': f'Today is {date.today()}'\n",
    "    #     })\n",
    "    # ]\n",
    "\n",
    "\n",
    "\n",
    "\n",
    "class Skill(BaseModel):\n",
    "    name: str\n",
    "    years: int = Field(description='Years of experience deducted from the dates')\n",
    "\n",
    "\n",
    "\n",
    "class Experience(BaseModel):\n",
    "    dates: DateRange\n",
    "    title: str = Field(description='The name of the role')\n",
    "    company: str = Field(description='The employer')\n",
    "    skills: List[Skill]\n",
    "    points: List[str] = Field(description='Each bullet point in the experience')\n",
    "\n",
    "\n",
    "class Education(BaseModel):\n",
    "    college: str = Field(description='Institution from which the person received their degree')\n",
    "    \n",
    "    dates: DateRange\n",
    "\n",
    "\n",
    "class Contact(BaseModel):\n",
    "    phone_number: str \n",
    "    email: str \n",
    "    location: str = Field(\n",
    "        default_factory=str, \n",
    "        description='Complete street address wherever possible.'\n",
    "        )\n",
    "    \n",
    "    \n",
    "    \n",
    "\n",
    "\n",
    "\n",
    "class Candidate(BaseModel):\n",
    "    name: str\n",
    "    contact: Contact\n",
    "    education: Education\n",
    "    \n",
    "    experiences: List[Experience]\n",
    "\n",
    "class OptionalCandidate(BaseModel):\n",
    "    result: Optional[Candidate] = Field(default=None)\n",
    "    error: bool = Field(default=False)\n",
    "    message: Optional[str]\n",
    "\n",
    "\n"
   ]
  },
  {
   "cell_type": "markdown",
   "metadata": {},
   "source": [
    "# Extracting a PDF \n",
    "\n",
    "Extract PDF of a resume for a quick RAG "
   ]
  },
  {
   "cell_type": "code",
   "execution_count": 69,
   "metadata": {},
   "outputs": [
    {
     "name": "stderr",
     "output_type": "stream",
     "text": [
      "INFO - Number of pages: 1\n",
      "/Users/paramesh/miniconda3/envs/resume-extractor/lib/python3.12/site-packages/pydantic/json_schema.py:2099: PydanticJsonSchemaWarning: Default value typing.Annotated[int, AfterValidator(func=<function day_validator at 0x1105d4ae0>), WithJsonSchema(json_schema={'type': 'int', 'description': 'the day (optional)'}, mode=None)] is not JSON serializable; excluding default from JSON schema [non-serializable-default]\n",
      "  warnings.warn(message, PydanticJsonSchemaWarning)\n",
      "/Users/paramesh/miniconda3/envs/resume-extractor/lib/python3.12/site-packages/pydantic/json_schema.py:2099: PydanticJsonSchemaWarning: Default value typing.Annotated[int, AfterValidator(func=<function month_validator at 0x1105d42c0>), WithJsonSchema(json_schema={'type': 'int', 'description': 'the month (optional)'}, mode=None)] is not JSON serializable; excluding default from JSON schema [non-serializable-default]\n",
      "  warnings.warn(message, PydanticJsonSchemaWarning)\n"
     ]
    }
   ],
   "source": [
    "# Get instructed\n",
    "text_chunk = extract_text_from_pdf(SETTINGS['source_pdf_file'])\n",
    "\n",
    "\n",
    "# install client\n",
    "client = instructor.patch(OpenAI(), mode=instructor.Mode.JSON)\n",
    "\n",
    "\n",
    "# extractions\n",
    "extraction = client.chat.completions.create(\n",
    "    model='gpt-3.5-turbo',#SETTINGS['model']['name'],\n",
    "    response_model = Candidate,\n",
    "    messages=[\n",
    "        {\n",
    "            'role': 'system',\n",
    "            'content': f'Your role is to extract information from the following resume. The present is {date.today()}'\n",
    "        },\n",
    "        {\n",
    "            'role': 'user',\n",
    "            'content': text_chunk\n",
    "        }\n",
    "    ],\n",
    ") "
   ]
  },
  {
   "cell_type": "code",
   "execution_count": null,
   "metadata": {},
   "outputs": [],
   "source": [
    "from pprint import pprint\n",
    "extraction.model_dump_json(indent=2)"
   ]
  },
  {
   "cell_type": "code",
   "execution_count": null,
   "metadata": {},
   "outputs": [],
   "source": []
  }
 ],
 "metadata": {
  "kernelspec": {
   "display_name": "resume-extractor",
   "language": "python",
   "name": "python3"
  },
  "language_info": {
   "codemirror_mode": {
    "name": "ipython",
    "version": 3
   },
   "file_extension": ".py",
   "mimetype": "text/x-python",
   "name": "python",
   "nbconvert_exporter": "python",
   "pygments_lexer": "ipython3",
   "version": "3.12.2"
  }
 },
 "nbformat": 4,
 "nbformat_minor": 2
}
